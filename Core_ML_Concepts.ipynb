{
  "nbformat": 4,
  "nbformat_minor": 0,
  "metadata": {
    "colab": {
      "provenance": [],
      "authorship_tag": "ABX9TyP7Iqm5rZFawhnnpSehlng9",
      "include_colab_link": true
    },
    "kernelspec": {
      "name": "python3",
      "display_name": "Python 3"
    },
    "language_info": {
      "name": "python"
    }
  },
  "cells": [
    {
      "cell_type": "markdown",
      "metadata": {
        "id": "view-in-github",
        "colab_type": "text"
      },
      "source": [
        "<a href=\"https://colab.research.google.com/github/DataHiveMind/Machine-Learning-Core-Concepts/blob/main/Core_ML_Concepts.ipynb\" target=\"_parent\"><img src=\"https://colab.research.google.com/assets/colab-badge.svg\" alt=\"Open In Colab\"/></a>"
      ]
    },
    {
      "cell_type": "markdown",
      "source": [
        "# Linear Regression"
      ],
      "metadata": {
        "id": "5aA74jCWnY81"
      }
    },
    {
      "cell_type": "code",
      "execution_count": null,
      "metadata": {
        "id": "mM6s3lnJnL1C"
      },
      "outputs": [],
      "source": []
    },
    {
      "cell_type": "markdown",
      "source": [
        "# Logistic Regression"
      ],
      "metadata": {
        "id": "m22ZvCq0nhKK"
      }
    },
    {
      "cell_type": "code",
      "source": [],
      "metadata": {
        "id": "us8Sffc5nQgg"
      },
      "execution_count": null,
      "outputs": []
    },
    {
      "cell_type": "markdown",
      "source": [
        "# Dimenaionality Reduction/ Feature Selection"
      ],
      "metadata": {
        "id": "QlkjMA99nkfI"
      }
    },
    {
      "cell_type": "code",
      "source": [],
      "metadata": {
        "id": "UiBXL4wTnQel"
      },
      "execution_count": null,
      "outputs": []
    },
    {
      "cell_type": "markdown",
      "source": [
        "# Principal Companent Analysis(PCA)"
      ],
      "metadata": {
        "id": "Yec2uhf7npzt"
      }
    },
    {
      "cell_type": "code",
      "source": [],
      "metadata": {
        "id": "FRqql5NKnQcz"
      },
      "execution_count": null,
      "outputs": []
    },
    {
      "cell_type": "markdown",
      "source": [
        "# K-Nearest Neigbours"
      ],
      "metadata": {
        "id": "DLajAGy2nvO4"
      }
    },
    {
      "cell_type": "code",
      "source": [],
      "metadata": {
        "id": "qh8bcpTgnQbB"
      },
      "execution_count": null,
      "outputs": []
    },
    {
      "cell_type": "markdown",
      "source": [
        "# PROJECT: Face Recognition"
      ],
      "metadata": {
        "id": "FJNjcFggOlah"
      }
    },
    {
      "cell_type": "code",
      "source": [],
      "metadata": {
        "id": "qKeJCCsEnQYl"
      },
      "execution_count": null,
      "outputs": []
    },
    {
      "cell_type": "markdown",
      "source": [
        "# Naive bayes Algortihm"
      ],
      "metadata": {
        "id": "ksmpgVabOsRy"
      }
    },
    {
      "cell_type": "code",
      "source": [],
      "metadata": {
        "id": "KktMR1mLnQSf"
      },
      "execution_count": null,
      "outputs": []
    },
    {
      "cell_type": "markdown",
      "source": [
        "# Multinomial Naive Bayes"
      ],
      "metadata": {
        "id": "wzD8Arl0OwJ_"
      }
    },
    {
      "cell_type": "code",
      "source": [],
      "metadata": {
        "id": "C6OSnCbvOwAc"
      },
      "execution_count": null,
      "outputs": []
    },
    {
      "cell_type": "markdown",
      "source": [
        "# Project: Spam Classifier"
      ],
      "metadata": {
        "id": "y81P-2uLO1f1"
      }
    },
    {
      "cell_type": "code",
      "source": [],
      "metadata": {
        "id": "1gPfgJMXOv-V"
      },
      "execution_count": null,
      "outputs": []
    },
    {
      "cell_type": "markdown",
      "source": [
        "# Descision Trees"
      ],
      "metadata": {
        "id": "4eGpQI1tO6Ar"
      }
    },
    {
      "cell_type": "code",
      "source": [],
      "metadata": {
        "id": "Rp-PUbHcOv8Q"
      },
      "execution_count": null,
      "outputs": []
    },
    {
      "cell_type": "markdown",
      "source": [
        "# Project: Titanic Survival Prediction"
      ],
      "metadata": {
        "id": "sKETwiNPYI5N"
      }
    },
    {
      "cell_type": "code",
      "source": [],
      "metadata": {
        "id": "DQu-LuR_Ov6N"
      },
      "execution_count": null,
      "outputs": []
    },
    {
      "cell_type": "markdown",
      "source": [
        "# Ensemble Learning: Bagging"
      ],
      "metadata": {
        "id": "vqNf2LgUYNyL"
      }
    },
    {
      "cell_type": "code",
      "source": [],
      "metadata": {
        "id": "kAtPl0-yOv12"
      },
      "execution_count": null,
      "outputs": []
    },
    {
      "cell_type": "markdown",
      "source": [
        "# Essemble Learning: Boosting"
      ],
      "metadata": {
        "id": "lLsmJNebYRHu"
      }
    },
    {
      "cell_type": "code",
      "source": [],
      "metadata": {
        "id": "y5sCM49KOvup"
      },
      "execution_count": null,
      "outputs": []
    },
    {
      "cell_type": "markdown",
      "source": [
        "# Project: Customer Churn Prediction"
      ],
      "metadata": {
        "id": "VtZq_JWgYZBC"
      }
    },
    {
      "cell_type": "code",
      "source": [],
      "metadata": {
        "id": "xYUmHf7kYXKr"
      },
      "execution_count": null,
      "outputs": []
    },
    {
      "cell_type": "markdown",
      "source": [
        "# Deep Learing Introduction - Neural Network"
      ],
      "metadata": {
        "id": "QUOkgRLFYceg"
      }
    },
    {
      "cell_type": "code",
      "source": [],
      "metadata": {
        "id": "QnJ8Bw57YXuH"
      },
      "execution_count": null,
      "outputs": []
    },
    {
      "cell_type": "markdown",
      "source": [
        "# project: Pokemon/Image Classification"
      ],
      "metadata": {
        "id": "EHIXZen4Yi7U"
      }
    },
    {
      "cell_type": "code",
      "source": [],
      "metadata": {
        "id": "kjyL3HsfYXrj"
      },
      "execution_count": null,
      "outputs": []
    }
  ]
}